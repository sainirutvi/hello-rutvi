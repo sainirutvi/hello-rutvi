{
  "nbformat": 4,
  "nbformat_minor": 0,
  "metadata": {
    "colab": {
      "name": "ARIMA MODEL",
      "provenance": [],
      "authorship_tag": "ABX9TyMRJfVH2XFdsXKwaOrX2jL2",
      "include_colab_link": true
    },
    "kernelspec": {
      "name": "python3",
      "display_name": "Python 3"
    }
  },
  "cells": [
    {
      "cell_type": "markdown",
      "metadata": {
        "id": "view-in-github",
        "colab_type": "text"
      },
      "source": [
        "<a href=\"https://colab.research.google.com/github/sainirutvi/hello-rutvi/blob/master/ARIMA_MODEL.ipynb\" target=\"_parent\"><img src=\"https://colab.research.google.com/assets/colab-badge.svg\" alt=\"Open In Colab\"/></a>"
      ]
    },
    {
      "cell_type": "code",
      "metadata": {
        "id": "1YCSjGukDKgV"
      },
      "source": [
        "\n",
        "import pandas as pd\n",
        "# Import Data\n",
        "data = pd.read_csv('https://raw.githubusercontent.com/selva86/datasets/master/a10.csv', parse_dates=['date'], index_col='date')"
      ],
      "execution_count": null,
      "outputs": []
    },
    {
      "cell_type": "code",
      "metadata": {
        "id": "Nhms_GwBDdZc",
        "colab": {
          "base_uri": "https://localhost:8080/",
          "height": 71
        },
        "outputId": "027a2571-b035-4568-bdf1-a5d1d487adc4"
      },
      "source": [
        "# Compute Seasonal Index\n",
        "from statsmodels.tsa.seasonal import seasonal_decompose\n",
        "from dateutil.parser import parse\n",
        "\n",
        "# multiplicative seasonal component\n",
        "result_mul = seasonal_decompose(data['value'][-36:],   # 3 years\n",
        "                                model='multiplicative', \n",
        "                                extrapolate_trend='freq')\n",
        "\n",
        "seasonal_index = result_mul.seasonal[-12:].to_frame()\n",
        "seasonal_index['month'] = pd.to_datetime(seasonal_index.index).month\n",
        "\n",
        "# merge with the base data\n",
        "data['month'] = data.index.month\n",
        "df = pd.merge(data, seasonal_index, how='left', on='month')\n",
        "df.columns = ['value', 'month', 'seasonal_index']\n",
        "df.index = data.index  # reassign the index."
      ],
      "execution_count": null,
      "outputs": [
        {
          "output_type": "stream",
          "text": [
            "/usr/local/lib/python3.6/dist-packages/statsmodels/tools/_testing.py:19: FutureWarning: pandas.util.testing is deprecated. Use the functions in the public API at pandas.testing instead.\n",
            "  import pandas.util.testing as tm\n"
          ],
          "name": "stderr"
        }
      ]
    },
    {
      "cell_type": "code",
      "metadata": {
        "id": "6amBLdCQ7xu9",
        "colab": {
          "base_uri": "https://localhost:8080/",
          "height": 1000
        },
        "outputId": "fdd2cf4a-44fb-4e78-c653-217fb4b12738"
      },
      "source": [
        "!pip install pmdarima\n",
        "\n",
        "\n",
        "import pmdarima as pm\n",
        "\n",
        "# SARIMAX Model\n",
        "sxmodel = pm.auto_arima(df[['value']], exogenous=df[['seasonal_index']],\n",
        "                           start_p=1, start_q=1,\n",
        "                           test='adf',\n",
        "                           max_p=3, max_q=3, m=12,\n",
        "                           start_P=0, seasonal=True,\n",
        "                           d=None, D=1, trace=True,\n",
        "                           error_action='ignore',  \n",
        "                           suppress_warnings=True, \n",
        "                           stepwise=True)\n",
        "\n",
        "sxmodel.summary()"
      ],
      "execution_count": null,
      "outputs": [
        {
          "output_type": "stream",
          "text": [
            "Collecting pmdarima\n",
            "\u001b[?25l  Downloading https://files.pythonhosted.org/packages/ff/07/7c173cc4fee44ebd62ddf03b3de84c4f151ec23facdf16baf58b8d02784c/pmdarima-1.6.0-cp36-cp36m-manylinux1_x86_64.whl (1.5MB)\n",
            "\u001b[K     |████████████████████████████████| 1.5MB 2.7MB/s \n",
            "\u001b[?25hRequirement already satisfied: statsmodels>=0.10.2 in /usr/local/lib/python3.6/dist-packages (from pmdarima) (0.10.2)\n",
            "Requirement already satisfied: numpy>=1.17.3 in /usr/local/lib/python3.6/dist-packages (from pmdarima) (1.18.3)\n",
            "Requirement already satisfied: Cython>=0.29 in /usr/local/lib/python3.6/dist-packages (from pmdarima) (0.29.17)\n",
            "Requirement already satisfied: urllib3 in /usr/local/lib/python3.6/dist-packages (from pmdarima) (1.24.3)\n",
            "Requirement already satisfied: scipy>=1.3.2 in /usr/local/lib/python3.6/dist-packages (from pmdarima) (1.4.1)\n",
            "Requirement already satisfied: scikit-learn>=0.22 in /usr/local/lib/python3.6/dist-packages (from pmdarima) (0.22.2.post1)\n",
            "Requirement already satisfied: pandas>=0.19 in /usr/local/lib/python3.6/dist-packages (from pmdarima) (1.0.3)\n",
            "Requirement already satisfied: joblib>=0.11 in /usr/local/lib/python3.6/dist-packages (from pmdarima) (0.14.1)\n",
            "Requirement already satisfied: patsy>=0.4.0 in /usr/local/lib/python3.6/dist-packages (from statsmodels>=0.10.2->pmdarima) (0.5.1)\n",
            "Requirement already satisfied: pytz>=2017.2 in /usr/local/lib/python3.6/dist-packages (from pandas>=0.19->pmdarima) (2018.9)\n",
            "Requirement already satisfied: python-dateutil>=2.6.1 in /usr/local/lib/python3.6/dist-packages (from pandas>=0.19->pmdarima) (2.8.1)\n",
            "Requirement already satisfied: six in /usr/local/lib/python3.6/dist-packages (from patsy>=0.4.0->statsmodels>=0.10.2->pmdarima) (1.12.0)\n",
            "Installing collected packages: pmdarima\n",
            "Successfully installed pmdarima-1.6.0\n",
            "Performing stepwise search to minimize aic\n",
            "Fit ARIMA(1,0,1)x(0,1,1,12) [intercept=True]; AIC=536.818, BIC=556.362, Time=2.626 seconds\n",
            "Fit ARIMA(0,0,0)x(0,1,0,12) [intercept=True]; AIC=626.061, BIC=635.834, Time=0.056 seconds\n",
            "Fit ARIMA(1,0,0)x(1,1,0,12) [intercept=True]; AIC=598.068, BIC=614.356, Time=0.817 seconds\n",
            "Fit ARIMA(0,0,1)x(0,1,1,12) [intercept=True]; AIC=613.475, BIC=629.762, Time=0.634 seconds\n",
            "Fit ARIMA(0,0,0)x(0,1,0,12) [intercept=False]; AIC=759.274, BIC=765.789, Time=0.136 seconds\n",
            "Fit ARIMA(1,0,1)x(0,1,0,12) [intercept=True]; AIC=561.407, BIC=577.695, Time=0.441 seconds\n",
            "Fit ARIMA(1,0,1)x(1,1,1,12) [intercept=True]; AIC=556.537, BIC=579.339, Time=3.750 seconds\n",
            "Near non-invertible roots for order (1, 0, 1)(1, 1, 1, 12); setting score to inf (at least one inverse root too close to the border of the unit circle: 1.000)\n",
            "Fit ARIMA(1,0,1)x(0,1,2,12) [intercept=True]; AIC=538.817, BIC=561.620, Time=8.293 seconds\n",
            "Fit ARIMA(1,0,1)x(1,1,0,12) [intercept=True]; AIC=545.106, BIC=564.651, Time=2.198 seconds\n",
            "Fit ARIMA(1,0,1)x(1,1,2,12) [intercept=True]; AIC=539.501, BIC=565.561, Time=9.499 seconds\n",
            "Fit ARIMA(1,0,0)x(0,1,1,12) [intercept=True]; AIC=596.467, BIC=612.754, Time=0.570 seconds\n",
            "Fit ARIMA(2,0,1)x(0,1,1,12) [intercept=True]; AIC=531.829, BIC=554.632, Time=2.239 seconds\n",
            "Fit ARIMA(2,0,1)x(0,1,0,12) [intercept=True]; AIC=557.198, BIC=576.743, Time=0.541 seconds\n",
            "Fit ARIMA(2,0,1)x(1,1,1,12) [intercept=True]; AIC=554.240, BIC=580.300, Time=4.916 seconds\n",
            "Near non-invertible roots for order (2, 0, 1)(1, 1, 1, 12); setting score to inf (at least one inverse root too close to the border of the unit circle: 1.000)\n",
            "Fit ARIMA(2,0,1)x(0,1,2,12) [intercept=True]; AIC=533.168, BIC=559.228, Time=5.875 seconds\n",
            "Fit ARIMA(2,0,1)x(1,1,0,12) [intercept=True]; AIC=536.757, BIC=559.560, Time=2.116 seconds\n",
            "Fit ARIMA(2,0,1)x(1,1,2,12) [intercept=True]; AIC=526.223, BIC=555.540, Time=10.170 seconds\n",
            "Fit ARIMA(2,0,1)x(2,1,2,12) [intercept=True]; AIC=535.034, BIC=567.609, Time=12.922 seconds\n",
            "Fit ARIMA(2,0,1)x(2,1,1,12) [intercept=True]; AIC=533.872, BIC=563.189, Time=10.692 seconds\n",
            "Fit ARIMA(2,0,0)x(1,1,2,12) [intercept=True]; AIC=547.610, BIC=573.670, Time=6.582 seconds\n",
            "Fit ARIMA(3,0,1)x(1,1,2,12) [intercept=True]; AIC=520.185, BIC=552.760, Time=11.739 seconds\n",
            "Near non-invertible roots for order (3, 0, 1)(1, 1, 2, 12); setting score to inf (at least one inverse root too close to the border of the unit circle: 0.992)\n",
            "Fit ARIMA(2,0,2)x(1,1,2,12) [intercept=True]; AIC=529.196, BIC=561.771, Time=14.108 seconds\n",
            "Fit ARIMA(1,0,0)x(1,1,2,12) [intercept=True]; AIC=595.876, BIC=618.678, Time=5.095 seconds\n",
            "Fit ARIMA(1,0,2)x(1,1,2,12) [intercept=True]; AIC=525.900, BIC=555.217, Time=12.499 seconds\n",
            "Fit ARIMA(1,0,2)x(0,1,2,12) [intercept=True]; AIC=534.804, BIC=560.864, Time=6.874 seconds\n",
            "Fit ARIMA(1,0,2)x(1,1,1,12) [intercept=True]; AIC=554.800, BIC=580.860, Time=5.218 seconds\n",
            "Near non-invertible roots for order (1, 0, 2)(1, 1, 1, 12); setting score to inf (at least one inverse root too close to the border of the unit circle: 1.000)\n",
            "Fit ARIMA(1,0,2)x(2,1,2,12) [intercept=True]; AIC=536.472, BIC=569.047, Time=11.792 seconds\n",
            "Fit ARIMA(1,0,2)x(0,1,1,12) [intercept=True]; AIC=533.170, BIC=555.973, Time=2.867 seconds\n",
            "Fit ARIMA(1,0,2)x(2,1,1,12) [intercept=True]; AIC=534.815, BIC=564.132, Time=8.333 seconds\n",
            "Fit ARIMA(0,0,2)x(1,1,2,12) [intercept=True]; AIC=585.617, BIC=611.677, Time=5.863 seconds\n",
            "Fit ARIMA(1,0,3)x(1,1,2,12) [intercept=True]; AIC=521.593, BIC=554.168, Time=11.424 seconds\n",
            "Near non-invertible roots for order (1, 0, 3)(1, 1, 2, 12); setting score to inf (at least one inverse root too close to the border of the unit circle: 0.992)\n",
            "Fit ARIMA(0,0,1)x(1,1,2,12) [intercept=True]; AIC=616.924, BIC=639.727, Time=4.293 seconds\n",
            "Fit ARIMA(0,0,3)x(1,1,2,12) [intercept=True]; AIC=568.118, BIC=597.436, Time=6.932 seconds\n",
            "Fit ARIMA(2,0,3)x(1,1,2,12) [intercept=True]; AIC=529.102, BIC=564.934, Time=12.652 seconds\n",
            "Total fit time: 204.821 seconds\n"
          ],
          "name": "stdout"
        },
        {
          "output_type": "execute_result",
          "data": {
            "text/html": [
              "<table class=\"simpletable\">\n",
              "<caption>Statespace Model Results</caption>\n",
              "<tr>\n",
              "  <th>Dep. Variable:</th>                  <td>y</td>               <th>  No. Observations:  </th>    <td>204</td>  \n",
              "</tr>\n",
              "<tr>\n",
              "  <th>Model:</th>           <td>SARIMAX(3, 0, 1)x(1, 1, 2, 12)</td> <th>  Log Likelihood     </th> <td>-250.092</td>\n",
              "</tr>\n",
              "<tr>\n",
              "  <th>Date:</th>                   <td>Fri, 08 May 2020</td>        <th>  AIC                </th>  <td>520.185</td>\n",
              "</tr>\n",
              "<tr>\n",
              "  <th>Time:</th>                       <td>15:42:47</td>            <th>  BIC                </th>  <td>552.760</td>\n",
              "</tr>\n",
              "<tr>\n",
              "  <th>Sample:</th>                    <td>07-01-1991</td>           <th>  HQIC               </th>  <td>533.378</td>\n",
              "</tr>\n",
              "<tr>\n",
              "  <th></th>                          <td>- 06-01-2008</td>          <th>                     </th>     <td> </td>   \n",
              "</tr>\n",
              "<tr>\n",
              "  <th>Covariance Type:</th>               <td>opg</td>              <th>                     </th>     <td> </td>   \n",
              "</tr>\n",
              "</table>\n",
              "<table class=\"simpletable\">\n",
              "<tr>\n",
              "         <td></td>           <th>coef</th>     <th>std err</th>      <th>z</th>      <th>P>|z|</th>  <th>[0.025</th>    <th>0.975]</th>  \n",
              "</tr>\n",
              "<tr>\n",
              "  <th>intercept</th>      <td>    0.0253</td> <td>    0.034</td> <td>    0.752</td> <td> 0.452</td> <td>   -0.041</td> <td>    0.091</td>\n",
              "</tr>\n",
              "<tr>\n",
              "  <th>seasonal_index</th> <td> 1.093e-05</td> <td> 7.86e+04</td> <td> 1.39e-10</td> <td> 1.000</td> <td>-1.54e+05</td> <td> 1.54e+05</td>\n",
              "</tr>\n",
              "<tr>\n",
              "  <th>ar.L1</th>          <td>   -0.1229</td> <td>    0.150</td> <td>   -0.820</td> <td> 0.412</td> <td>   -0.417</td> <td>    0.171</td>\n",
              "</tr>\n",
              "<tr>\n",
              "  <th>ar.L2</th>          <td>    0.4830</td> <td>    0.062</td> <td>    7.851</td> <td> 0.000</td> <td>    0.362</td> <td>    0.604</td>\n",
              "</tr>\n",
              "<tr>\n",
              "  <th>ar.L3</th>          <td>    0.5233</td> <td>    0.083</td> <td>    6.315</td> <td> 0.000</td> <td>    0.361</td> <td>    0.686</td>\n",
              "</tr>\n",
              "<tr>\n",
              "  <th>ma.L1</th>          <td>    0.1922</td> <td>    0.165</td> <td>    1.163</td> <td> 0.245</td> <td>   -0.132</td> <td>    0.516</td>\n",
              "</tr>\n",
              "<tr>\n",
              "  <th>ar.S.L12</th>       <td>    0.8401</td> <td>    0.124</td> <td>    6.797</td> <td> 0.000</td> <td>    0.598</td> <td>    1.082</td>\n",
              "</tr>\n",
              "<tr>\n",
              "  <th>ma.S.L12</th>       <td>   -1.6397</td> <td>    0.167</td> <td>   -9.844</td> <td> 0.000</td> <td>   -1.966</td> <td>   -1.313</td>\n",
              "</tr>\n",
              "<tr>\n",
              "  <th>ma.S.L24</th>       <td>    0.8332</td> <td>    0.130</td> <td>    6.417</td> <td> 0.000</td> <td>    0.579</td> <td>    1.088</td>\n",
              "</tr>\n",
              "<tr>\n",
              "  <th>sigma2</th>         <td>    0.6952</td> <td>    0.088</td> <td>    7.908</td> <td> 0.000</td> <td>    0.523</td> <td>    0.867</td>\n",
              "</tr>\n",
              "</table>\n",
              "<table class=\"simpletable\">\n",
              "<tr>\n",
              "  <th>Ljung-Box (Q):</th>          <td>61.12</td> <th>  Jarque-Bera (JB):  </th> <td>103.74</td>\n",
              "</tr>\n",
              "<tr>\n",
              "  <th>Prob(Q):</th>                <td>0.02</td>  <th>  Prob(JB):          </th>  <td>0.00</td> \n",
              "</tr>\n",
              "<tr>\n",
              "  <th>Heteroskedasticity (H):</th> <td>12.73</td> <th>  Skew:              </th>  <td>0.40</td> \n",
              "</tr>\n",
              "<tr>\n",
              "  <th>Prob(H) (two-sided):</th>    <td>0.00</td>  <th>  Kurtosis:          </th>  <td>6.51</td> \n",
              "</tr>\n",
              "</table><br/><br/>Warnings:<br/>[1] Covariance matrix calculated using the outer product of gradients (complex-step)."
            ],
            "text/plain": [
              "<class 'statsmodels.iolib.summary.Summary'>\n",
              "\"\"\"\n",
              "                                 Statespace Model Results                                 \n",
              "==========================================================================================\n",
              "Dep. Variable:                                  y   No. Observations:                  204\n",
              "Model:             SARIMAX(3, 0, 1)x(1, 1, 2, 12)   Log Likelihood                -250.092\n",
              "Date:                            Fri, 08 May 2020   AIC                            520.185\n",
              "Time:                                    15:42:47   BIC                            552.760\n",
              "Sample:                                07-01-1991   HQIC                           533.378\n",
              "                                     - 06-01-2008                                         \n",
              "Covariance Type:                              opg                                         \n",
              "==================================================================================\n",
              "                     coef    std err          z      P>|z|      [0.025      0.975]\n",
              "----------------------------------------------------------------------------------\n",
              "intercept          0.0253      0.034      0.752      0.452      -0.041       0.091\n",
              "seasonal_index  1.093e-05   7.86e+04   1.39e-10      1.000   -1.54e+05    1.54e+05\n",
              "ar.L1             -0.1229      0.150     -0.820      0.412      -0.417       0.171\n",
              "ar.L2              0.4830      0.062      7.851      0.000       0.362       0.604\n",
              "ar.L3              0.5233      0.083      6.315      0.000       0.361       0.686\n",
              "ma.L1              0.1922      0.165      1.163      0.245      -0.132       0.516\n",
              "ar.S.L12           0.8401      0.124      6.797      0.000       0.598       1.082\n",
              "ma.S.L12          -1.6397      0.167     -9.844      0.000      -1.966      -1.313\n",
              "ma.S.L24           0.8332      0.130      6.417      0.000       0.579       1.088\n",
              "sigma2             0.6952      0.088      7.908      0.000       0.523       0.867\n",
              "===================================================================================\n",
              "Ljung-Box (Q):                       61.12   Jarque-Bera (JB):               103.74\n",
              "Prob(Q):                              0.02   Prob(JB):                         0.00\n",
              "Heteroskedasticity (H):              12.73   Skew:                             0.40\n",
              "Prob(H) (two-sided):                  0.00   Kurtosis:                         6.51\n",
              "===================================================================================\n",
              "\n",
              "Warnings:\n",
              "[1] Covariance matrix calculated using the outer product of gradients (complex-step).\n",
              "\"\"\""
            ]
          },
          "metadata": {
            "tags": []
          },
          "execution_count": 4
        }
      ]
    },
    {
      "cell_type": "code",
      "metadata": {
        "id": "V_BAhFmt75xD",
        "colab": {
          "base_uri": "https://localhost:8080/",
          "height": 281
        },
        "outputId": "b0413ce1-2a66-4ce2-8a75-119e030ee715"
      },
      "source": [
        "import numpy as np\n",
        "import matplotlib.pyplot as plt\n",
        "# Forecast\n",
        "n_periods = 24\n",
        "fitted, confint = sxmodel.predict(n_periods=n_periods, \n",
        "                                  exogenous=np.tile(seasonal_index.value, 2).reshape(-1,1), \n",
        "                                  return_conf_int=True)\n",
        "\n",
        "index_of_fc = pd.date_range(data.index[-1], periods = n_periods, freq='MS')\n",
        "\n",
        "# make series for plotting purpose\n",
        "fitted_series = pd.Series(fitted, index=index_of_fc)\n",
        "lower_series = pd.Series(confint[:, 0], index=index_of_fc)\n",
        "upper_series = pd.Series(confint[:, 1], index=index_of_fc)\n",
        "\n",
        "# Plot\n",
        "plt.plot(data['value'])\n",
        "plt.plot(fitted_series, color='darkgreen')\n",
        "plt.fill_between(lower_series.index, \n",
        "                 lower_series, \n",
        "                 upper_series, \n",
        "                 color='k', alpha=.15)\n",
        "\n",
        "plt.title(\"SARIMAX Forecast of a10 - Drug Sales\")\n",
        "plt.show()"
      ],
      "execution_count": null,
      "outputs": [
        {
          "output_type": "display_data",
          "data": {
            "image/png": "[encoded data removed]",
            "text/plain": [
              "<Figure size 432x288 with 1 Axes>"
            ]
          },
          "metadata": {
            "tags": [],
            "needs_background": "light"
          }
        }
      ]
    },
    {
      "cell_type": "code",
      "metadata": {
        "id": "XmolGUpU9IL7"
      },
      "source": [
        ""
      ],
      "execution_count": null,
      "outputs": []
    }
  ]
}